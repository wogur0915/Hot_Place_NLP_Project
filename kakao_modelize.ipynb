{
 "cells": [
  {
   "cell_type": "code",
   "execution_count": 1,
   "metadata": {},
   "outputs": [],
   "source": [
    "import pandas as pd\n",
    "import numpy as np\n",
    "import matplotlib.pyplot as plt\n",
    "#import seaborn as sns\n",
    "import re\n",
    "import time\n",
    "\n",
    "import warnings\n",
    "warnings.filterwarnings(\"ignore\")"
   ]
  },
  {
   "cell_type": "code",
   "execution_count": 2,
   "metadata": {},
   "outputs": [
    {
     "data": {
      "text/html": [
       "<div>\n",
       "<style scoped>\n",
       "    .dataframe tbody tr th:only-of-type {\n",
       "        vertical-align: middle;\n",
       "    }\n",
       "\n",
       "    .dataframe tbody tr th {\n",
       "        vertical-align: top;\n",
       "    }\n",
       "\n",
       "    .dataframe thead th {\n",
       "        text-align: right;\n",
       "    }\n",
       "</style>\n",
       "<table border=\"1\" class=\"dataframe\">\n",
       "  <thead>\n",
       "    <tr style=\"text-align: right;\">\n",
       "      <th></th>\n",
       "      <th>score</th>\n",
       "      <th>review</th>\n",
       "      <th>y</th>\n",
       "    </tr>\n",
       "  </thead>\n",
       "  <tbody>\n",
       "    <tr>\n",
       "      <th>0</th>\n",
       "      <td>5.0</td>\n",
       "      <td>명불허전</td>\n",
       "      <td>1</td>\n",
       "    </tr>\n",
       "    <tr>\n",
       "      <th>1</th>\n",
       "      <td>5.0</td>\n",
       "      <td>이거슨 한국의 까르보나라,,,🤍 들깨칼국수 고소하니 넘 맛나유 얼큰해물칼국수는 해물...</td>\n",
       "      <td>1</td>\n",
       "    </tr>\n",
       "    <tr>\n",
       "      <th>2</th>\n",
       "      <td>5.0</td>\n",
       "      <td>들깨가 찐하고 고소해요. 음식맛이 깔끔해요. 어르신 모시고 청주 온다면 식사하기 괜...</td>\n",
       "      <td>1</td>\n",
       "    </tr>\n",
       "    <tr>\n",
       "      <th>3</th>\n",
       "      <td>4.0</td>\n",
       "      <td>청주 사람들 점심엔 여기만 오나봐요. 주말 점심시간에 왔는데 손님 100명은 앉아있...</td>\n",
       "      <td>1</td>\n",
       "    </tr>\n",
       "    <tr>\n",
       "      <th>4</th>\n",
       "      <td>5.0</td>\n",
       "      <td>NaN</td>\n",
       "      <td>1</td>\n",
       "    </tr>\n",
       "    <tr>\n",
       "      <th>5</th>\n",
       "      <td>5.0</td>\n",
       "      <td>NaN</td>\n",
       "      <td>1</td>\n",
       "    </tr>\n",
       "    <tr>\n",
       "      <th>6</th>\n",
       "      <td>5.0</td>\n",
       "      <td>4명에서 3~4인 셋트시키면 진짜 배터지게 먹고나올수있어요!</td>\n",
       "      <td>1</td>\n",
       "    </tr>\n",
       "    <tr>\n",
       "      <th>7</th>\n",
       "      <td>5.0</td>\n",
       "      <td>들깨칼국수 땡기면 찾아가는곳</td>\n",
       "      <td>1</td>\n",
       "    </tr>\n",
       "    <tr>\n",
       "      <th>8</th>\n",
       "      <td>5.0</td>\n",
       "      <td>일하시는분들이 친절하고 음식이 들깨칼국수 맛있어요</td>\n",
       "      <td>1</td>\n",
       "    </tr>\n",
       "    <tr>\n",
       "      <th>9</th>\n",
       "      <td>3.0</td>\n",
       "      <td>NaN</td>\n",
       "      <td>0</td>\n",
       "    </tr>\n",
       "    <tr>\n",
       "      <th>10</th>\n",
       "      <td>5.0</td>\n",
       "      <td>맛은좋아요. 주방아줌마들 홀이나 주방에서 수다좀 안떠셨음 좋겠어요..짜증납니다. 교...</td>\n",
       "      <td>1</td>\n",
       "    </tr>\n",
       "    <tr>\n",
       "      <th>11</th>\n",
       "      <td>5.0</td>\n",
       "      <td>짱 맛집임들깨칼국수, 해물칼국수 모두 훌륭함</td>\n",
       "      <td>1</td>\n",
       "    </tr>\n",
       "    <tr>\n",
       "      <th>12</th>\n",
       "      <td>5.0</td>\n",
       "      <td>NaN</td>\n",
       "      <td>1</td>\n",
       "    </tr>\n",
       "    <tr>\n",
       "      <th>13</th>\n",
       "      <td>5.0</td>\n",
       "      <td>NaN</td>\n",
       "      <td>1</td>\n",
       "    </tr>\n",
       "    <tr>\n",
       "      <th>14</th>\n",
       "      <td>5.0</td>\n",
       "      <td>가족이랑 먹기 좋아요 양도 완전 많고 국물완전 저희 가족 스탈~,, 해물파전도 너무...</td>\n",
       "      <td>1</td>\n",
       "    </tr>\n",
       "    <tr>\n",
       "      <th>15</th>\n",
       "      <td>4.0</td>\n",
       "      <td>월요일에도 영업하시네요맛있습니다 밑반찬도 싱싱함</td>\n",
       "      <td>1</td>\n",
       "    </tr>\n",
       "    <tr>\n",
       "      <th>16</th>\n",
       "      <td>4.0</td>\n",
       "      <td>칼국수 맛은 평범했는데 파전이 두툼하고 바삭한게 정말 맛있네요</td>\n",
       "      <td>1</td>\n",
       "    </tr>\n",
       "    <tr>\n",
       "      <th>17</th>\n",
       "      <td>5.0</td>\n",
       "      <td>맛있어요</td>\n",
       "      <td>1</td>\n",
       "    </tr>\n",
       "    <tr>\n",
       "      <th>18</th>\n",
       "      <td>5.0</td>\n",
       "      <td>들깨 칼국수 맛있어요~~!</td>\n",
       "      <td>1</td>\n",
       "    </tr>\n",
       "    <tr>\n",
       "      <th>19</th>\n",
       "      <td>5.0</td>\n",
       "      <td>청주에서 가족과 오기 좋은 곳</td>\n",
       "      <td>1</td>\n",
       "    </tr>\n",
       "  </tbody>\n",
       "</table>\n",
       "</div>"
      ],
      "text/plain": [
       "    score                                             review  y\n",
       "0     5.0                                               명불허전  1\n",
       "1     5.0  이거슨 한국의 까르보나라,,,🤍 들깨칼국수 고소하니 넘 맛나유 얼큰해물칼국수는 해물...  1\n",
       "2     5.0  들깨가 찐하고 고소해요. 음식맛이 깔끔해요. 어르신 모시고 청주 온다면 식사하기 괜...  1\n",
       "3     4.0  청주 사람들 점심엔 여기만 오나봐요. 주말 점심시간에 왔는데 손님 100명은 앉아있...  1\n",
       "4     5.0                                                NaN  1\n",
       "5     5.0                                                NaN  1\n",
       "6     5.0                  4명에서 3~4인 셋트시키면 진짜 배터지게 먹고나올수있어요!  1\n",
       "7     5.0                                    들깨칼국수 땡기면 찾아가는곳  1\n",
       "8     5.0                        일하시는분들이 친절하고 음식이 들깨칼국수 맛있어요  1\n",
       "9     3.0                                                NaN  0\n",
       "10    5.0  맛은좋아요. 주방아줌마들 홀이나 주방에서 수다좀 안떠셨음 좋겠어요..짜증납니다. 교...  1\n",
       "11    5.0                           짱 맛집임들깨칼국수, 해물칼국수 모두 훌륭함  1\n",
       "12    5.0                                                NaN  1\n",
       "13    5.0                                                NaN  1\n",
       "14    5.0  가족이랑 먹기 좋아요 양도 완전 많고 국물완전 저희 가족 스탈~,, 해물파전도 너무...  1\n",
       "15    4.0                         월요일에도 영업하시네요맛있습니다 밑반찬도 싱싱함  1\n",
       "16    4.0                 칼국수 맛은 평범했는데 파전이 두툼하고 바삭한게 정말 맛있네요  1\n",
       "17    5.0                                               맛있어요  1\n",
       "18    5.0                                     들깨 칼국수 맛있어요~~!  1\n",
       "19    5.0                                   청주에서 가족과 오기 좋은 곳  1"
      ]
     },
     "execution_count": 2,
     "metadata": {},
     "output_type": "execute_result"
    }
   ],
   "source": [
    "df = pd.read_csv(\"review_data.csv\")\n",
    "df.head(20)"
   ]
  },
  {
   "cell_type": "code",
   "execution_count": 3,
   "metadata": {},
   "outputs": [],
   "source": [
    "def text_cleaning(text):\n",
    "    # 정규표현식으로 한글만 추출\n",
    "        hangul = re.compile('[^ ㄱ-ㅣ가-힣]+')\n",
    "        result = hangul.sub('', text)\n",
    "        return result"
   ]
  },
  {
   "cell_type": "code",
   "execution_count": 4,
   "metadata": {},
   "outputs": [
    {
     "data": {
      "text/html": [
       "<div>\n",
       "<style scoped>\n",
       "    .dataframe tbody tr th:only-of-type {\n",
       "        vertical-align: middle;\n",
       "    }\n",
       "\n",
       "    .dataframe tbody tr th {\n",
       "        vertical-align: top;\n",
       "    }\n",
       "\n",
       "    .dataframe thead th {\n",
       "        text-align: right;\n",
       "    }\n",
       "</style>\n",
       "<table border=\"1\" class=\"dataframe\">\n",
       "  <thead>\n",
       "    <tr style=\"text-align: right;\">\n",
       "      <th></th>\n",
       "      <th>score</th>\n",
       "      <th>y</th>\n",
       "      <th>ko_text</th>\n",
       "    </tr>\n",
       "  </thead>\n",
       "  <tbody>\n",
       "    <tr>\n",
       "      <th>456</th>\n",
       "      <td>5.0</td>\n",
       "      <td>1</td>\n",
       "      <td>새우튀김 우동 처음 먹어봤는데 진짜 맛있어요충대 주변 돈까스집 다 먹어봤는데 양이나...</td>\n",
       "    </tr>\n",
       "    <tr>\n",
       "      <th>457</th>\n",
       "      <td>5.0</td>\n",
       "      <td>1</td>\n",
       "      <td>점심식사로 추천합니다 진짜 일식 돈까스중에서는최곱니다</td>\n",
       "    </tr>\n",
       "    <tr>\n",
       "      <th>458</th>\n",
       "      <td>5.0</td>\n",
       "      <td>1</td>\n",
       "      <td>충북대학교 맛집양꼬치 맛집이내요 몸에좋고 보양식이예요</td>\n",
       "    </tr>\n",
       "    <tr>\n",
       "      <th>459</th>\n",
       "      <td>5.0</td>\n",
       "      <td>1</td>\n",
       "      <td>맛있게 잘 먹었습니다</td>\n",
       "    </tr>\n",
       "    <tr>\n",
       "      <th>460</th>\n",
       "      <td>5.0</td>\n",
       "      <td>1</td>\n",
       "      <td>세트 먹었는데 푸짐하고 넘 맛있어요 명이서 먹을 양</td>\n",
       "    </tr>\n",
       "  </tbody>\n",
       "</table>\n",
       "</div>"
      ],
      "text/plain": [
       "     score  y                                            ko_text\n",
       "456    5.0  1  새우튀김 우동 처음 먹어봤는데 진짜 맛있어요충대 주변 돈까스집 다 먹어봤는데 양이나...\n",
       "457    5.0  1                      점심식사로 추천합니다 진짜 일식 돈까스중에서는최곱니다\n",
       "458    5.0  1                      충북대학교 맛집양꼬치 맛집이내요 몸에좋고 보양식이예요\n",
       "459    5.0  1                                        맛있게 잘 먹었습니다\n",
       "460    5.0  1                       세트 먹었는데 푸짐하고 넘 맛있어요 명이서 먹을 양"
      ]
     },
     "execution_count": 4,
     "metadata": {},
     "output_type": "execute_result"
    }
   ],
   "source": [
    "df = pd.read_csv(\"review_data.csv\")\n",
    "row = []\n",
    "for i in df['review']:\n",
    "    row.append(text_cleaning(str(i)))\n",
    "\n",
    "df['ko_text'] = row\n",
    "del df['review']\n",
    "\n",
    "# 한 글자 이상의 텍스트를 가지고 있는 데이터만 추출\n",
    "df = df[df['ko_text'].str.len() > 0]\n",
    "df.tail(5)"
   ]
  },
  {
   "cell_type": "code",
   "execution_count": 5,
   "metadata": {},
   "outputs": [],
   "source": [
    "########################### 여기서부터 자연어처리를 위한 과정 ###########################"
   ]
  },
  {
   "cell_type": "code",
   "execution_count": 6,
   "metadata": {},
   "outputs": [
    {
     "name": "stdout",
     "output_type": "stream",
     "text": [
      "['이거슨/Noun', '한국/Noun', '의/Josa', '까르보나라/Noun', '들깨/Noun', '칼국수/Noun', '고소하니/Adjective', '넘/Verb', '맛/Noun', '나유/Noun', '얼큰해/Adjective', '물/Noun', '칼국수/Noun', '는/Josa', '해물/Noun', '도/Josa', '많이/Adverb', '들어있고/Verb', '약간/Noun', '짬뽕/Noun', '느낌/Noun', '해물파전/Noun', '도/Josa', '괜춘스/Noun', '가족/Noun', '들/Suffix', '과/Josa', '외식/Noun', '하기/Verb', '좋숩니/Noun', '다/Josa']\n"
     ]
    }
   ],
   "source": [
    "from konlpy.tag import Okt\n",
    "\n",
    "# konlpy라이브러리로 텍스트 데이터에서 형태소를 추출합니다.\n",
    "def get_pos(x):\n",
    "    tagger = Okt()\n",
    "    pos = tagger.pos(x)\n",
    "    pos = ['{}/{}'.format(word,tag) for word, tag in pos]\n",
    "    return pos\n",
    "\n",
    "# 형태소 추출 동작을 테스트합니다.\n",
    "result = get_pos(df['ko_text'].values[1])\n",
    "print(result)"
   ]
  },
  {
   "cell_type": "code",
   "execution_count": 7,
   "metadata": {},
   "outputs": [],
   "source": [
    "from sklearn.feature_extraction.text import CountVectorizer\n",
    "\n",
    "# 형태소를 벡터 형태의 학습 데이터셋(X 데이터)으로 변환합니다.\n",
    "index_vectorizer = CountVectorizer(tokenizer = lambda x: get_pos(x))\n",
    "X = index_vectorizer.fit_transform(df['ko_text'].tolist())"
   ]
  },
  {
   "cell_type": "code",
   "execution_count": 8,
   "metadata": {},
   "outputs": [
    {
     "data": {
      "text/plain": [
       "(358, 2871)"
      ]
     },
     "execution_count": 8,
     "metadata": {},
     "output_type": "execute_result"
    }
   ],
   "source": [
    "X.shape"
   ]
  },
  {
   "cell_type": "code",
   "execution_count": 9,
   "metadata": {},
   "outputs": [
    {
     "name": "stdout",
     "output_type": "stream",
     "text": [
      "{'명불허전/Noun': 998, '이거슨/Noun': 1988, '한국/Noun': 2743, '의/Josa': 1980, '까르보나라/Noun': 353, '들깨/Noun': ..\n"
     ]
    }
   ],
   "source": [
    "print(str(index_vectorizer.vocabulary_)[:100]+\"..\")"
   ]
  },
  {
   "cell_type": "code",
   "execution_count": 10,
   "metadata": {},
   "outputs": [
    {
     "name": "stdout",
     "output_type": "stream",
     "text": [
      "이거슨 한국의 까르보나라 들깨칼국수 고소하니 넘 맛나유 얼큰해물칼국수는 해물도 많이 들어있고 약간 짬뽕 느낌 해물파전도 괜춘스 가족들과 외식하기 좋숩니다\n",
      "  (0, 1988)\t1\n",
      "  (0, 2743)\t1\n",
      "  (0, 1980)\t1\n",
      "  (0, 353)\t1\n",
      "  (0, 712)\t1\n",
      "  (0, 2536)\t2\n",
      "  (0, 199)\t1\n",
      "  (0, 480)\t1\n",
      "  (0, 888)\t1\n",
      "  (0, 439)\t1\n",
      "  (0, 1755)\t1\n",
      "  (0, 1060)\t1\n",
      "  (0, 518)\t1\n",
      "  (0, 2779)\t1\n",
      "  (0, 635)\t2\n",
      "  (0, 879)\t1\n",
      "  (0, 727)\t1\n",
      "  (0, 1715)\t1\n",
      "  (0, 2391)\t1\n",
      "  (0, 517)\t1\n",
      "  (0, 2780)\t1\n",
      "  (0, 238)\t1\n",
      "  (0, 70)\t1\n",
      "  (0, 710)\t1\n",
      "  (0, 223)\t1\n",
      "  (0, 1913)\t1\n",
      "  (0, 2689)\t1\n",
      "  (0, 2269)\t1\n",
      "  (0, 532)\t1\n"
     ]
    }
   ],
   "source": [
    "print(df['ko_text'].values[1])\n",
    "print(X[1])"
   ]
  },
  {
   "cell_type": "code",
   "execution_count": 11,
   "metadata": {},
   "outputs": [
    {
     "name": "stdout",
     "output_type": "stream",
     "text": [
      "(358, 2871)\n",
      "  (0, 2780)\t0.18832867801369899\n",
      "  (0, 2779)\t0.18832867801369899\n",
      "  (0, 2743)\t0.21207596318922514\n",
      "  (0, 2689)\t0.16458139283817283\n",
      "  (0, 2536)\t0.29589570220642225\n",
      "  (0, 2391)\t0.19818469186761092\n",
      "  (0, 2269)\t0.21207596318922514\n",
      "  (0, 1988)\t0.21207596318922514\n",
      "  (0, 1980)\t0.13679885019494434\n",
      "  (0, 1913)\t0.21207596318922514\n",
      "  (0, 1755)\t0.21207596318922514\n",
      "  (0, 1715)\t0.21207596318922514\n",
      "  (0, 1060)\t0.19818469186761092\n",
      "  (0, 888)\t0.08569461903629025\n",
      "  (0, 879)\t0.13679885019494434\n",
      "  (0, 727)\t0.21207596318922514\n",
      "  (0, 712)\t0.15069012151655858\n",
      "  (0, 710)\t0.11401670181537596\n",
      "  (0, 635)\t0.1648585672903216\n",
      "  (0, 532)\t0.17443740669208477\n",
      "  (0, 518)\t0.10248913251871337\n",
      "  (0, 517)\t0.15069012151655858\n",
      "  (0, 480)\t0.16915619044173236\n",
      "  (0, 439)\t0.21207596318922514\n",
      "  (0, 353)\t0.21207596318922514\n",
      "  (0, 238)\t0.21207596318922514\n",
      "  (0, 223)\t0.14540890526620617\n",
      "  (0, 199)\t0.19818469186761092\n",
      "  (0, 70)\t0.16054613537047052\n"
     ]
    }
   ],
   "source": [
    "from sklearn.feature_extraction.text import TfidfTransformer\n",
    "\n",
    "# TF-IDF 방법으로, 형태소를 벡터 형태의 학습 데이터셋(X 데이터)으로 변환합니다.\n",
    "tfidf_vectorizer = TfidfTransformer()\n",
    "X = tfidf_vectorizer.fit_transform(X)\n",
    "\n",
    "print(X.shape)\n",
    "print(X[1])"
   ]
  },
  {
   "cell_type": "code",
   "execution_count": 12,
   "metadata": {},
   "outputs": [
    {
     "name": "stdout",
     "output_type": "stream",
     "text": [
      "(286, 2871)\n",
      "(72, 2871)\n"
     ]
    }
   ],
   "source": [
    "from sklearn.model_selection import train_test_split\n",
    "\n",
    "y = df['y']\n",
    "x_train, x_test, y_train, y_test = train_test_split(X,y,test_size=0.20)\n",
    "print(x_train.shape)\n",
    "print(x_test.shape)"
   ]
  },
  {
   "cell_type": "code",
   "execution_count": 13,
   "metadata": {},
   "outputs": [
    {
     "name": "stdout",
     "output_type": "stream",
     "text": [
      "accuracy: 0.76\n",
      "Precision: 0.761\n",
      "Recall: 1.000\n",
      "F1: 0.864\n"
     ]
    }
   ],
   "source": [
    "from sklearn.linear_model import LogisticRegression\n",
    "from sklearn.metrics import accuracy_score, precision_score, recall_score, f1_score\n",
    "\n",
    "lr = LogisticRegression(random_state=0)\n",
    "lr.fit(x_train, y_train)\n",
    "y_pred = lr.predict(x_test)\n",
    "y_pred_probability = lr.predict_proba(x_test)[:,1]\n",
    "\n",
    "print(\"accuracy: %.2f\" % accuracy_score(y_test, y_pred))\n",
    "print(\"Precision: %.3f\" % precision_score(y_test,y_pred))\n",
    "print(\"Recall: %.3f\" % recall_score(y_test, y_pred))\n",
    "print(\"F1: %.3f\" % f1_score(y_test, y_pred))"
   ]
  },
  {
   "cell_type": "code",
   "execution_count": 14,
   "metadata": {},
   "outputs": [
    {
     "name": "stdout",
     "output_type": "stream",
     "text": [
      "[[ 1 17]\n",
      " [ 0 54]]\n"
     ]
    }
   ],
   "source": [
    "from sklearn.metrics import confusion_matrix\n",
    "\n",
    "confmat=confusion_matrix(y_true=y_test, y_pred=y_pred)\n",
    "print(confmat)"
   ]
  },
  {
   "cell_type": "code",
   "execution_count": 15,
   "metadata": {},
   "outputs": [
    {
     "data": {
      "text/plain": [
       "y\n",
       "1    241\n",
       "0    117\n",
       "Name: count, dtype: int64"
      ]
     },
     "execution_count": 15,
     "metadata": {},
     "output_type": "execute_result"
    }
   ],
   "source": [
    "# y가 0과 1을 각각 얼마나 가지고 있는지를 출력\n",
    "df['y'].value_counts()"
   ]
  },
  {
   "cell_type": "code",
   "execution_count": 17,
   "metadata": {},
   "outputs": [
    {
     "data": {
      "image/png": "[encoded data removed]",
      "text/plain": [
       "<Figure size 400x300 with 2 Axes>"
      ]
     },
     "metadata": {},
     "output_type": "display_data"
    }
   ],
   "source": [
    "# 오차행렬\n",
    "import seaborn as sns\n",
    "confu = confusion_matrix(y_true = y_test, y_pred = y_pred)\n",
    "\n",
    "plt.figure(figsize=(4, 3))\n",
    "sns.heatmap(confu, annot=True, annot_kws={'size':15}, cmap='OrRd', fmt='.10g')\n",
    "plt.title('Confusion Matrix')\n",
    "plt.show()"
   ]
  },
  {
   "cell_type": "code",
   "execution_count": null,
   "metadata": {},
   "outputs": [],
   "source": []
  }
 ],
 "metadata": {
  "kernelspec": {
   "display_name": "nlp",
   "language": "python",
   "name": "python3"
  },
  "language_info": {
   "codemirror_mode": {
    "name": "ipython",
    "version": 3
   },
   "file_extension": ".py",
   "mimetype": "text/x-python",
   "name": "python",
   "nbconvert_exporter": "python",
   "pygments_lexer": "ipython3",
   "version": "3.11.6"
  }
 },
 "nbformat": 4,
 "nbformat_minor": 2
}
